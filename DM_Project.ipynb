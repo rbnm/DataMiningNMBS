{
 "cells": [
  {
   "cell_type": "code",
   "execution_count": 1,
   "metadata": {
    "scrolled": true
   },
   "outputs": [
    {
     "name": "stdout",
     "output_type": "stream",
     "text": [
      "+-------+\n",
      "|  hallo|\n",
      "+-------+\n",
      "|Groep 1|\n",
      "+-------+\n",
      "\n"
     ]
    }
   ],
   "source": [
    "import findspark\n",
    "findspark.init()\n",
    "\n",
    "import pyspark # only run after findspark.init()\n",
    "from pyspark.sql import SparkSession\n",
    "\n",
    "from pyspark import SparkConf\n",
    "\n",
    "#Functionality imports\n",
    "from pyspark.sql import *\n",
    "from pyspark.sql.types import *\n",
    "import folium\n",
    "from IPython.display import HTML\n",
    "%matplotlib inline\n",
    "import matplotlib.pyplot as plt\n",
    "from pyspark.mllib.stat import Statistics\n",
    "\n",
    "sc = SparkSession.builder.getOrCreate()\n",
    "\n",
    "#Configure to use 4 cores\n",
    "conf = pyspark.SparkConf().setAll([('spark.executor.memory', '8g'), ('spark.executor.cores', '4'), ('spark.cores.max', '4'), ('spark.driver.memory','8g')])\n",
    "sc.stop()\n",
    "sc = pyspark.SparkContext(conf=conf)\n",
    "\n",
    "sqlContext = SQLContext(sc)\n",
    "\n",
    "sqlContext.setConf('spark.sql.shuffle.partitions', '8')\n",
    "\n",
    "df = sqlContext.sql('''select 'Groep 1' as hallo ''')\n",
    "df.show()"
   ]
  },
  {
   "cell_type": "code",
   "execution_count": 3,
   "metadata": {},
   "outputs": [
    {
     "name": "stdout",
     "output_type": "stream",
     "text": [
      "{'2016-01': ['89899.0', '212787', '95.9923225336'], '2016-02': ['92905.0', '203292', '95.16594446020001'], '2016-03': ['94993.0', '209805', '97.5642140053'], '2016-04': ['89996.0', '195684', '96.4848192092'], '2016-05': ['81611.0', '210082', '98.2279892433'], '2016-06': ['84004.0', '261317', '97.8359096314'], '2016-07': ['93071.0', '161023', '98.2277116013'], '2016-08': ['94666.0', '184347', '96.8372588931'], '2016-09': ['94621.0', '218103', '95.91235604879999'], '2016-10': ['90373.0', '286975', '95.085812357'], '2016-11': ['81913.0', '337994', '87.29115393080001'], '2016-12': ['95568.0', '229134', '93.4390872423'], '2017-01': ['97822.0', '206171', '93.1717224175'], '2017-02': ['88998.0', '224076', '92.5678851828'], '2017-03': ['100688.0', '238126', '93.2669060656'], '2017-04': ['92468.0', '165001', '95.484710475'], '2017-05': ['94896.0', '283128', '91.7464747624'], '2017-06': ['93292.0', '273664', '92.02903974249999'], '2017-07': ['94664.0', '171279', '94.6339515312'], '2017-08': ['97649.0', '165955', '95.3119211149'], '2017-09': ['92275.0', '264956', '92.08521578039999'], '2017-10': ['89839.0', '330432', '89.9175921275'], '2017-11': ['86259.0', '343014', '88.6183972417'], '2017-12': ['93502.0', '288679', '89.8989246319'], '2018-01': ['101213.0', '259583', '92.0480303866'], '2018-02': ['88952.0', '250288', '90.7714944333'], '2018-03': ['101672.0', '257576', '92.27333669970001'], '2018-04': ['94409.0', '224233', '93.00156843479999'], '2018-05': ['95458.0', '287274', '91.8002773422'], '2018-06': ['89896.0', '307281', '90.7827166532'], '2018-07': ['93087.0', '244234', '92.4035022814'], '2018-08': ['100338.0', '199761', '94.4281658355'], '2018-09': ['90972.0', '314266', '90.3060095178'], '2018-10': ['99887.0', '330034', '90.1720421017'], '2018-11': ['92760.0', '323770', '89.1224358801'], '2018-12': ['100046.0', '218773', '92.4921277553'], '2019-01': ['103959.0', '233743', '92.6009337618'], '2019-02': ['93051.0', '201277', '93.3224060675'], '2019-03': ['104435.0', '203856', '94.354725583'], '2019-04': ['99265.0', '203130', '94.0685888154'], '2019-05': ['101106.0', '246815', '93.5290842076'], '2019-06': ['96392.0', '232656', '92.058331871'], '2019-07': ['104586.0', '198515', '94.11873840450001'], '2019-08': ['103993.0', '151128', '95.6344792034'], '2019-09': ['102176.0', '212675', '93.8780951704'], 'Maand': ['Aantal treinen met minder dan 6 min. vertraging', 'Aantal minuten vertraging', 'Stiptheid na neutralisatie']}\n",
      "---------\n",
      "{'2007 - 1 - G': ['2007', '2007 - Q1', 'Goederen', '5874234.1'], '2007 - 1 - R': ['2007', '2007 - Q1', 'Reizigers', '20997967.18'], '2007 - 2 - G': ['2007', '2007 - Q2', 'Goederen', '4877220.7'], '2007 - 2 - R': ['2007', '2007 - Q2', 'Reizigers', '20740508.45'], '2007 - 3 - G': ['2007', '2007 - Q3', 'Goederen', '4587141.98'], '2007 - 3 - R': ['2007', '2007 - Q3', 'Reizigers', '21070631.89'], '2007 - 4 - G': ['2007', '2007 - Q4', 'Goederen', '4763648.52'], '2007 - 4 - R': ['2007', '2007 - Q4', 'Reizigers', '20675983.27'], '2008 - 1 - A': ['2008', '2008 - Q1', 'Aangemelde instantie', '0.0'], '2008 - 1 - G': ['2008', '2008 - Q1', 'Goederen', '5004787.48'], '2008 - 1 - R': ['2008', '2008 - Q1', 'Reizigers', '21054748.19'], '2008 - 1 - T': ['2008', '2008 - Q1', 'Toeristische verenigingen', '699.5'], '2008 - 2 - G': ['2008', '2008 - Q2', 'Goederen', '4900164.71'], '2008 - 2 - R': ['2008', '2008 - Q2', 'Reizigers', '20784968.48'], '2008 - 2 - T': ['2008', '2008 - Q2', 'Toeristische verenigingen', '2222.08'], '2008 - 3 - G': ['2008', '2008 - Q3', 'Goederen', '4825880.28'], '2008 - 3 - R': ['2008', '2008 - Q3', 'Reizigers', '21387544.01'], '2008 - 3 - T': ['2008', '2008 - Q3', 'Toeristische verenigingen', '1000.73'], '2008 - 4 - G': ['2008', '2008 - Q4', 'Goederen', '4147937.55'], '2008 - 4 - R': ['2008', '2008 - Q4', 'Reizigers', '20970388.21'], '2008 - 4 - T': ['2008', '2008 - Q4', 'Toeristische verenigingen', '580.67'], '2009 - 1 - G': ['2009', '2009 - Q1', 'Goederen', '3458557.89'], '2009 - 1 - R': ['2009', '2009 - Q1', 'Reizigers', '21003079.55'], '2009 - 1 - T': ['2009', '2009 - Q1', 'Toeristische verenigingen', '1275.24'], '2009 - 2 - G': ['2009', '2009 - Q2', 'Goederen', '3074236.59'], '2009 - 2 - R': ['2009', '2009 - Q2', 'Reizigers', '21124345.05'], '2009 - 2 - T': ['2009', '2009 - Q2', 'Toeristische verenigingen', '2056.63'], '2009 - 3 - G': ['2009', '2009 - Q3', 'Goederen', '3067105.38'], '2009 - 3 - R': ['2009', '2009 - Q3', 'Reizigers', '21702211.13'], '2009 - 3 - T': ['2009', '2009 - Q3', 'Toeristische verenigingen', '3404.58'], '2009 - 4 - G': ['2009', '2009 - Q4', 'Goederen', '3309455.06'], '2009 - 4 - R': ['2009', '2009 - Q4', 'Reizigers', '21282034.38'], '2009 - 4 - T': ['2009', '2009 - Q4', 'Toeristische verenigingen', '675.17'], '2010 - 1 - G': ['2010', '2010 - Q1', 'Goederen', '3394626.24'], '2010 - 1 - R': ['2010', '2010 - Q1', 'Reizigers', '21221590.5'], '2010 - 1 - T': ['2010', '2010 - Q1', 'Toeristische verenigingen', '1336.55'], '2010 - 2 - G': ['2010', '2010 - Q2', 'Goederen', '3674258.64'], '2010 - 2 - R': ['2010', '2010 - Q2', 'Reizigers', '21326561.68'], '2010 - 2 - T': ['2010', '2010 - Q2', 'Toeristische verenigingen', '4653.4'], '2010 - 3 - A': ['2010', '2010 - Q3', 'Aangemelde instantie', '2818.52'], '2010 - 3 - G': ['2010', '2010 - Q3', 'Goederen', '3550028.77'], '2010 - 3 - R': ['2010', '2010 - Q3', 'Reizigers', '21910522.27'], '2010 - 3 - T': ['2010', '2010 - Q3', 'Toeristische verenigingen', '3999.19'], '2010 - 4 - A': ['2010', '2010 - Q4', 'Aangemelde instantie', '14642.81'], '2010 - 4 - G': ['2010', '2010 - Q4', 'Goederen', '3354182.55'], '2010 - 4 - R': ['2010', '2010 - Q4', 'Reizigers', '21347243.53'], '2010 - 4 - T': ['2010', '2010 - Q4', 'Toeristische verenigingen', '2618.74'], '2011 - 1 - A': ['2011', '2011 - Q1', 'Aangemelde instantie', '14703.14'], '2011 - 1 - G': ['2011', '2011 - Q1', 'Goederen', '3761212.36'], '2011 - 1 - R': ['2011', '2011 - Q1', 'Reizigers', '21551992.37'], '2011 - 1 - T': ['2011', '2011 - Q1', 'Toeristische verenigingen', '635.44'], '2011 - 2 - A': ['2011', '2011 - Q2', 'Aangemelde instantie', '19287.63'], '2011 - 2 - G': ['2011', '2011 - Q2', 'Goederen', '3705561.95'], '2011 - 2 - R': ['2011', '2011 - Q2', 'Reizigers', '21453864.23'], '2011 - 2 - T': ['2011', '2011 - Q2', 'Toeristische verenigingen', '3166.86'], '2011 - 3 - A': ['2011', '2011 - Q3', 'Aangemelde instantie', '3467.42'], '2011 - 3 - G': ['2011', '2011 - Q3', 'Goederen', '3714216.85'], '2011 - 3 - R': ['2011', '2011 - Q3', 'Reizigers', '21625421.62'], '2011 - 3 - T': ['2011', '2011 - Q3', 'Toeristische verenigingen', '3968.86'], '2011 - 4 - A': ['2011', '2011 - Q4', 'Aangemelde instantie', '11514.78'], '2011 - 4 - G': ['2011', '2011 - Q4', 'Goederen', '3493260.15'], '2011 - 4 - R': ['2011', '2011 - Q4', 'Reizigers', '21277501.87'], '2011 - 4 - T': ['2011', '2011 - Q4', 'Toeristische verenigingen', '2598.72'], '2012 - 1 - A': ['2012', '2012 - Q1', 'Aangemelde instantie', '6061.55'], '2012 - 1 - G': ['2012', '2012 - Q1', 'Goederen', '3634172.58'], '2012 - 1 - R': ['2012', '2012 - Q1', 'Reizigers', '21326088.79'], '2012 - 1 - T': ['2012', '2012 - Q1', 'Toeristische verenigingen', '1818.42'], '2012 - 2 - A': ['2012', '2012 - Q2', 'Aangemelde instantie', '4934.88'], '2012 - 2 - G': ['2012', '2012 - Q2', 'Goederen', '3435993.44'], '2012 - 2 - R': ['2012', '2012 - Q2', 'Reizigers', '21329672.04'], '2012 - 2 - T': ['2012', '2012 - Q2', 'Toeristische verenigingen', '4136.93'], '2012 - 3 - A': ['2012', '2012 - Q3', 'Aangemelde instantie', '10140.46'], '2012 - 3 - G': ['2012', '2012 - Q3', 'Goederen', '3231259.57'], '2012 - 3 - R': ['2012', '2012 - Q3', 'Reizigers', '21573340.88'], '2012 - 3 - T': ['2012', '2012 - Q3', 'Toeristische verenigingen', '2284.36'], '2012 - 4 - A': ['2012', '2012 - Q4', 'Aangemelde instantie', '4364.83'], '2012 - 4 - G': ['2012', '2012 - Q4', 'Goederen', '3080420.88'], '2012 - 4 - R': ['2012', '2012 - Q4', 'Reizigers', '21094612.41'], '2012 - 4 - T': ['2012', '2012 - Q4', 'Toeristische verenigingen', '1306.06'], '2013 - 1 - A': ['2013', '2013 - Q1', 'Aangemelde instantie', '5479.87'], '2013 - 1 - G': ['2013', '2013 - Q1', 'Goederen', '3135654.83'], '2013 - 1 - R': ['2013', '2013 - Q1', 'Reizigers', '20698716.34'], '2013 - 1 - T': ['2013', '2013 - Q1', 'Toeristische verenigingen', '3350.75'], '2013 - 2 - A': ['2013', '2013 - Q2', 'Aangemelde instantie', '5353.46'], '2013 - 2 - G': ['2013', '2013 - Q2', 'Goederen', '3215472.8'], '2013 - 2 - R': ['2013', '2013 - Q2', 'Reizigers', '20913009.83'], '2013 - 2 - T': ['2013', '2013 - Q2', 'Toeristische verenigingen', '4250.81'], '2013 - 3 - A': ['2013', '2013 - Q3', 'Aangemelde instantie', '3655.75'], '2013 - 3 - G': ['2013', '2013 - Q3', 'Goederen', '3142739.26'], '2013 - 3 - R': ['2013', '2013 - Q3', 'Reizigers', '21408229.79'], '2013 - 3 - T': ['2013', '2013 - Q3', 'Toeristische verenigingen', '1981.48'], '2013 - 4 - A': ['2013', '2013 - Q4', 'Aangemelde instantie', '4955.71'], '2013 - 4 - G': ['2013', '2013 - Q4', 'Goederen', '3080406.75'], '2013 - 4 - R': ['2013', '2013 - Q4', 'Reizigers', '21069005.69'], '2013 - 4 - T': ['2013', '2013 - Q4', 'Toeristische verenigingen', '1823.89'], '2014 - 1 - A': ['2014', '2014 - Q1', 'Aangemelde instantie', '3210.67'], '2014 - 1 - G': ['2014', '2014 - Q1', 'Goederen', '3247804.88'], '2014 - 1 - R': ['2014', '2014 - Q1', 'Reizigers', '21058212.98'], '2014 - 1 - T': ['2014', '2014 - Q1', 'Toeristische verenigingen', '118.88'], '2014 - 2 - A': ['2014', '2014 - Q2', 'Aangemelde instantie', '2660.33'], '2014 - 2 - G': ['2014', '2014 - Q2', 'Goederen', '3162908.11'], '2014 - 2 - R': ['2014', '2014 - Q2', 'Reizigers', '20783524.01'], '2014 - 2 - T': ['2014', '2014 - Q2', 'Toeristische verenigingen', '2027.28'], '2014 - 3 - A': ['2014', '2014 - Q3', 'Aangemelde instantie', '2652.03'], '2014 - 3 - G': ['2014', '2014 - Q3', 'Goederen', '3158138.45'], '2014 - 3 - R': ['2014', '2014 - Q3', 'Reizigers', '21359568.71'], '2014 - 3 - T': ['2014', '2014 - Q3', 'Toeristische verenigingen', '1074.57'], '2014 - 4 - A': ['2014', '2014 - Q4', 'Aangemelde instantie', '11797.6'], '2014 - 4 - G': ['2014', '2014 - Q4', 'Goederen', '3026335.31'], '2014 - 4 - R': ['2014', '2014 - Q4', 'Reizigers', '20535016.44'], '2014 - 4 - T': ['2014', '2014 - Q4', 'Toeristische verenigingen', '2360.48'], '2015 - 1 - A': ['2015', '2015 - Q1', 'Aangemelde instantie', '5073.55'], '2015 - 1 - G': ['2015', '2015 - Q1', 'Goederen', '3276056.4'], '2015 - 1 - R': ['2015', '2015 - Q1', 'Reizigers', '20940128.27'], '2015 - 1 - T': ['2015', '2015 - Q1', 'Toeristische verenigingen', '717.56'], '2015 - 2 - A': ['2015', '2015 - Q2', 'Aangemelde instantie', '7020.45'], '2015 - 2 - G': ['2015', '2015 - Q2', 'Goederen', '3287145.69'], '2015 - 2 - R': ['2015', '2015 - Q2', 'Reizigers', '20355939.32'], '2015 - 2 - T': ['2015', '2015 - Q2', 'Toeristische verenigingen', '2400.01'], '2015 - 3 - A': ['2015', '2015 - Q3', 'Aangemelde instantie', '8280.19'], '2015 - 3 - G': ['2015', '2015 - Q3', 'Goederen', '3196457.21'], '2015 - 3 - R': ['2015', '2015 - Q3', 'Reizigers', '21107351.5'], '2015 - 3 - T': ['2015', '2015 - Q3', 'Toeristische verenigingen', '0.0'], '2015 - 4 - A': ['2015', '2015 - Q4', 'Aangemelde instantie', '5483.23'], '2015 - 4 - G': ['2015', '2015 - Q4', 'Goederen', '3225648.86'], '2015 - 4 - R': ['2015', '2015 - Q4', 'Reizigers', '20950346.48'], '2015 - 4 - T': ['2015', '2015 - Q4', 'Toeristische verenigingen', '65.18'], '2016 - 1 - A': ['2016', '2016 - Q1', 'Aangemelde instantie', '6147.38'], '2016 - 1 - G': ['2016', '2016 - Q1', 'Goederen', '3284587.2'], '2016 - 1 - R': ['2016', '2016 - Q1', 'Reizigers', '20724455.96'], '2016 - 1 - T': ['2016', '2016 - Q1', 'Toeristische verenigingen', '283.05'], '2016 - 2 - A': ['2016', '2016 - Q2', 'Aangemelde instantie', '7461.06'], '2016 - 2 - G': ['2016', '2016 - Q2', 'Goederen', '3325779.52'], '2016 - 2 - R': ['2016', '2016 - Q2', 'Reizigers', '19979336.99'], '2016 - 2 - T': ['2016', '2016 - Q2', 'Toeristische verenigingen', '61.26'], '2016 - 3 - A': ['2016', '2016 - Q3', 'Aangemelde instantie', '5925.77'], '2016 - 3 - G': ['2016', '2016 - Q3', 'Goederen', '3222281.41'], '2016 - 3 - R': ['2016', '2016 - Q3', 'Reizigers', '21200385.14'], '2016 - 3 - T': ['2016', '2016 - Q3', 'Toeristische verenigingen', '-5.3'], '2016 - 4 - A': ['2016', '2016 - Q4', 'Aangemelde instantie', '14710.68'], '2016 - 4 - G': ['2016', '2016 - Q4', 'Goederen', '3213396.55'], '2016 - 4 - R': ['2016', '2016 - Q4', 'Reizigers', '21128935.2'], '2016 - 4 - T': ['2016', '2016 - Q4', 'Toeristische verenigingen', '13.52'], '2017 - 1 - A': ['2017', '2017 - Q1', 'Aangemelde instantie', '5838.58'], '2017 - 1 - G': ['2017', '2017 - Q1', 'Goederen', '3331902.43'], '2017 - 1 - R': ['2017', '2017 - Q1', 'Reizigers', '21344854.29'], '2017 - 1 - T': ['2017', '2017 - Q1', 'Toeristische verenigingen', '0.0'], '2017 - 2 - A': ['2017', '2017 - Q2', 'Aangemelde instantie', '4951.95'], '2017 - 2 - G': ['2017', '2017 - Q2', 'Goederen', '3635275.06'], '2017 - 2 - R': ['2017', '2017 - Q2', 'Reizigers', '21062601.7'], '2017 - 2 - T': ['2017', '2017 - Q2', 'Toeristische verenigingen', '0.0'], '2017 - 3 - A': ['2017', '2017 - Q3', 'Aangemelde instantie', '8730.21'], '2017 - 3 - G': ['2017', '2017 - Q3', 'Goederen', '3415529.26'], '2017 - 3 - R': ['2017', '2017 - Q3', 'Reizigers', '21216025.79'], '2017 - 3 - T': ['2017', '2017 - Q3', 'Toeristische verenigingen', '0.0'], '2017 - 4 - A': ['2017', '2017 - Q4', 'Aangemelde instantie', '3369.42'], '2017 - 4 - G': ['2017', '2017 - Q4', 'Goederen', '3269503.66'], '2017 - 4 - R': ['2017', '2017 - Q4', 'Reizigers', '21399779.26'], '2017 - 4 - T': ['2017', '2017 - Q4', 'Toeristische verenigingen', '0.0'], '2018 - 1 - A': ['2018', '2018 - Q1', 'Aangemelde instantie', '7388.29'], '2018 - 1 - G': ['2018', '2018 - Q1', 'Goederen', '3401018.17'], '2018 - 1 - R': ['2018', '2018 - Q1', 'Reizigers', '21942369.18'], '2018 - 1 - T': ['2018', '2018 - Q1', 'Toeristische verenigingen', '0.0'], '2018 - 2 - A': ['2018', '2018 - Q2', 'Aangemelde instantie', '8214.76'], '2018 - 2 - G': ['2018', '2018 - Q2', 'Goederen', '3254871.98'], '2018 - 2 - R': ['2018', '2018 - Q2', 'Reizigers', '21408083.57'], '2018 - 2 - T': ['2018', '2018 - Q2', 'Toeristische verenigingen', '0.0'], '2018 - 3 - A': ['2018', '2018 - Q3', 'Aangemelde instantie', '14444.49'], '2018 - 3 - G': ['2018', '2018 - Q3', 'Goederen', '3199454.2'], '2018 - 3 - R': ['2018', '2018 - Q3', 'Reizigers', '21619564.96'], '2018 - 3 - T': ['2018', '2018 - Q3', 'Toeristische verenigingen', '0.0'], '2018 - 4 - A': ['2018', '2018 - Q4', 'Aangemelde instantie', '16692.7'], '2018 - 4 - G': ['2018', '2018 - Q4', 'Goederen', '3324426.27'], '2018 - 4 - R': ['2018', '2018 - Q4', 'Reizigers', '22234159.57'], '2018 - 4 - T': ['2018', '2018 - Q4', 'Toeristische verenigingen', '0.0'], '2019 - 1 - A': ['2019', '2019 - Q1', 'Aangemelde instantie', '6607.79'], '2019 - 1 - G': ['2019', '2019 - Q1', 'Goederen', '3367660.13'], '2019 - 1 - R': ['2019', '2019 - Q1', 'Reizigers', '21748425.39'], '2019 - 1 - T': ['2019', '2019 - Q1', 'Toeristische verenigingen', '0.0'], '2019 - 2 - A': ['2019', '2019 - Q2', 'Aangemelde instantie', '13752.93'], '2019 - 2 - G': ['2019', '2019 - Q2', 'Goederen', '3323187.7'], '2019 - 2 - R': ['2019', '2019 - Q2', 'Reizigers', '21557945.92'], '2019 - 2 - T': ['2019', '2019 - Q2', 'Toeristische verenigingen', '0.0']}\n"
     ]
    }
   ],
   "source": [
    "MONTHS = ['01','02','03','04','05','06','07','08','09','10','11','12']\n",
    "\n",
    "# Maand Stiptheid% Aantal_treinen_met_minder_dan_ 6min._vertraging Aantal_min_vertraging Stiptheid_na_neutralisatie\n",
    "train_data = []\n",
    "evolution_data = []\n",
    "\n",
    "def make_train_dict(data):\n",
    "    train_dict = {}\n",
    "    train_lines = data.collect()\n",
    "    train_lines.sort()\n",
    "    for line in train_lines:\n",
    "        line = line.replace('\"', '')\n",
    "        all_vals = line.split(';')\n",
    "        train_dict[(all_vals[0])] = [all_vals[3], (all_vals[4]), (all_vals[5])]\n",
    "    return train_dict\n",
    "\n",
    "train_data = (sc.textFile('../Data Mining Project/nationale-stiptheid-per-maand.csv').filter(lambda l: 'maand' not in l))\n",
    "s = make_train_dict(train_data)\n",
    "train_data = sc.broadcast(s)\n",
    "print(train_data.value)\n",
    "print('---------')\n",
    "\n",
    "#Code Kwartaal Sector Aantal-km\n",
    "#Enkel effectieve data!\n",
    "def make_evolution_dict(data):\n",
    "    evolution_dict = {}\n",
    "    evolution_lines = data\n",
    "    evolution_lines.sort()\n",
    "    for line in evolution_lines:\n",
    "        all_vals = line.split(';')\n",
    "        if(all_vals[3] == 'Effectief'):\n",
    "            evolution_dict[(all_vals[0]) + ' - ' + (all_vals[1][8]) + ' - ' +(all_vals[2][0])] = [all_vals[0], all_vals[1], all_vals[2], all_vals[4]]\n",
    "    return evolution_dict\n",
    "\n",
    "datafile = open('../Data Mining Project/evolutie-van-treinkilometers.csv')\n",
    "section = None\n",
    "found   = []\n",
    "match   = set([\"Faction=Blahdiddly\"])  # can be multiple items\n",
    "\n",
    "for line in datafile:\n",
    "    line = line.strip()\n",
    "    found.append(line)\n",
    "\n",
    "e = make_evolution_dict(found)\n",
    "evolution_data = sc.broadcast(e)\n",
    "print(evolution_data.value)"
   ]
  },
  {
   "cell_type": "code",
   "execution_count": 4,
   "metadata": {},
   "outputs": [
    {
     "data": {
      "text/html": [
       "\n",
       "<div style='background-color:gainsboro; border:solid black; width:300px; padding:20px;'>\n",
       "<p>Geef een jaar tussen 2016 en 2018</p>\n",
       "Jaar: <input type=\"text\" id='year' value=\"2018\"/><br>\n",
       " <button onclick=\"set_salparvars()\">Zoek</button> \n",
       "</div>\n",
       "\n",
       "<script type=\"text/Javascript\">\n",
       "    function set_salparvars(){\n",
       "        var var_name1 = 'inp_year';\n",
       "        var var_value1 = document.getElementById('year').value;\n",
       "        var command1 = var_name1 + \" = '\" + var_value1 + \"'\";\n",
       "        var kernel = IPython.notebook.kernel;\n",
       "        kernel.execute(command1);\n",
       "        cell = IPython.notebook.get_cell(3);\n",
       "        cell.execute();\n",
       "        cell.focus_cell(3);\n",
       "    }\n",
       "</script>\n"
      ],
      "text/plain": [
       "<IPython.core.display.HTML object>"
      ]
     },
     "execution_count": 4,
     "metadata": {},
     "output_type": "execute_result"
    }
   ],
   "source": [
    "from IPython.display import HTML\n",
    "\n",
    "#Input form in jupyter notebook\n",
    "form = \"\"\"\n",
    "<div style='background-color:gainsboro; border:solid black; width:300px; padding:20px;'>\n",
    "<p>Geef een jaar tussen 2016 en 2018</p>\n",
    "Jaar: <input type=\"text\" id='year' value=\"2018\"/><br>\n",
    " <button onclick=\"set_salparvars()\">Zoek</button> \n",
    "</div>\n",
    "\"\"\"\n",
    "#Called function from button onclick\n",
    "javascript = \"\"\"\n",
    "<script type=\"text/Javascript\">\n",
    "    function set_salparvars(){\n",
    "        var var_name1 = 'inp_year';\n",
    "        var var_value1 = document.getElementById('year').value;\n",
    "        var command1 = var_name1 + \" = '\" + var_value1 + \"'\";\n",
    "        var kernel = IPython.notebook.kernel;\n",
    "        kernel.execute(command1);\n",
    "        cell = IPython.notebook.get_cell(3);\n",
    "        cell.execute();\n",
    "        cell.focus_cell(3);\n",
    "    }\n",
    "</script>\n",
    "\"\"\"\n",
    "#Rendering the html\n",
    "HTML(form + javascript)"
   ]
  },
  {
   "cell_type": "code",
   "execution_count": 7,
   "metadata": {},
   "outputs": [
    {
     "data": {
      "image/png": "[encoded data removed]",
      "text/plain": [
       "<Figure size 720x720 with 1 Axes>"
      ]
     },
     "metadata": {
      "needs_background": "light"
     },
     "output_type": "display_data"
    }
   ],
   "source": [
    "#check of dat dit automatisch kan worden uitgevoerd\n",
    "%matplotlib inline\n",
    "import matplotlib.pyplot as plt\n",
    "\n",
    "x_axis = [i+1 for i in range(0,12)]\n",
    "y_axis = []\n",
    "\n",
    "try:\n",
    "    inp_year = int(inp_year)  \n",
    "    inp_year = str(inp_year)\n",
    "    if int(inp_year) >=2016 and int(inp_year) <=2018:\n",
    "        vals=[]\n",
    "        for i in range(1,13):\n",
    "            var = inp_year + '-' + str(i).zfill(2)\n",
    "            y_axis.append(int(train_data.value[var][1]))\n",
    "        fig1 = plt.figure(figsize=(10 , 10))\n",
    "        fig1.suptitle('Vertragingen in minuten per maand (' + inp_year + ')', fontsize=14)\n",
    "        ax = fig1.add_subplot(111)\n",
    "        ax.set_xlabel('maand')\n",
    "        ax.set_ylabel('vertragingen (min)')\n",
    "        ax.bar(x_axis, y_axis, align='center', color='#99ccff')\n",
    "        #Set the x axis tick labels\n",
    "        plt.xticks(x_axis, MONTHS ,fontsize = 12)\n",
    "        plt.show()\n",
    "    else:\n",
    "        print(\"geen gelidge waarde ingegeven, de waarde moet liggen tussen 2016 en 2018\")\n",
    "except ValueError:\n",
    "         print(\"input is geen geldige waarde\")"
   ]
  },
  {
   "cell_type": "code",
   "execution_count": 6,
   "metadata": {},
   "outputs": [
    {
     "name": "stdout",
     "output_type": "stream",
     "text": [
      "Totale vertraging in 2016: 31 dagen 8 uur 55 minuten en 43 seconden\n",
      "Totale vertraging in 2017: 34 dagen 4 uur 41 minuten en 21 seconden\n",
      "Totale vertraging in 2018: 37 dagen 5 uur 37 minuten en 53 seconden\n"
     ]
    }
   ],
   "source": [
    "#totalen per jaar van de aantal minuten\n",
    "YEARS = ['2016','2017','2018']\n",
    "vals = []\n",
    "\n",
    "for y in range(1,4):\n",
    "    year = YEARS[y-1]\n",
    "    var = 0\n",
    "    for i in range(1,13):\n",
    "        maand = year + '-' + str(i).zfill(2)\n",
    "        line=int(train_data.value[maand][1])\n",
    "        var=(var+line)\n",
    "        time =var\n",
    "        day = time // (24 * 3600)\n",
    "        time = time % (24 * 3600)\n",
    "        hour = time // 3600\n",
    "        time %= 3600\n",
    "        minutes = time // 60\n",
    "        time %= 60\n",
    "        seconds = time\n",
    "    print(\"Totale vertraging in \" + year+ \": %d dagen %d uur %d minuten en %d seconden\" % (day, hour, minutes, seconds))\n",
    "    vals.append(var)"
   ]
  },
  {
   "cell_type": "code",
   "execution_count": 8,
   "metadata": {},
   "outputs": [
    {
     "name": "stdout",
     "output_type": "stream",
     "text": [
      "+----+------------+\n",
      "|Jaar|   Aantal km|\n",
      "+----+------------+\n",
      "|2007|103587336.09|\n",
      "|2008|103080921.89|\n",
      "|2009| 98028436.65|\n",
      "|2010| 99809083.39|\n",
      "|2011|100642374.25|\n",
      "|2012| 98740608.08|\n",
      "|2013| 96694087.01|\n",
      "|2014| 96357410.73|\n",
      "|2015|  96368113.9|\n",
      "|2016| 96113755.39|\n",
      "|2017| 98698361.61|\n",
      "|2018|100430688.14|\n",
      "+----+------------+\n",
      "\n"
     ]
    }
   ],
   "source": [
    "items = []\n",
    "for i in evolution_data.value:\n",
    "    items.append([evolution_data.value[i][0], evolution_data.value[i][3]])\n",
    "    \n",
    "evolution_perjaar = sc.broadcast(items)\n",
    "    \n",
    "def get_totals(year):\n",
    "    total = 0\n",
    "    for line in items:\n",
    "        if int(line[0]) == year:\n",
    "            var = line[1]\n",
    "            total += float(var)\n",
    "    return round(total, 2)\n",
    "\n",
    "def get_overview():\n",
    "    output = []\n",
    "    for i in range(1,13):\n",
    "        var = str(2006+i)+';'+str(get_totals(2006+i))\n",
    "        output.append(var)\n",
    "    return output\n",
    "\n",
    "#Getting data from textfile into list, make sure to have the right location for the text file\n",
    "schema_data = get_overview()\n",
    "\n",
    "#make some beautiful rows\n",
    "rowlist = []\n",
    "for line in schema_data:\n",
    "        row = line.split(\";\")\n",
    "        rowlist.append(row)\n",
    "evolution_totals = sc.broadcast(rowlist)\n",
    "\n",
    "#create frame\n",
    "#Making a schema for the dataframe\n",
    "#fix pretty print en duizend separators\n",
    "schema = [\"Jaar\", \"Aantal km\"]\n",
    "\n",
    "#create the frame\n",
    "df = sqlContext.createDataFrame(rowlist, schema)\n",
    "df.show()"
   ]
  },
  {
   "cell_type": "code",
   "execution_count": 9,
   "metadata": {},
   "outputs": [
    {
     "data": {
      "image/png": "[encoded data removed]",
      "text/plain": [
       "<Figure size 1080x360 with 1 Axes>"
      ]
     },
     "metadata": {
      "needs_background": "light"
     },
     "output_type": "display_data"
    }
   ],
   "source": [
    "def get_totals(year):\n",
    "    total = 0\n",
    "    for line in items:\n",
    "        if int(line[0]) == year:\n",
    "            var = line[1]\n",
    "            total += float(var)\n",
    "    return (total/10000000)\n",
    "\n",
    "years = [x for x in range(2007, 2019)]\n",
    "aantal_kms = []\n",
    "\n",
    "for x in range(2007, 2019):\n",
    "    aantal_kms.append(get_totals(x))\n",
    "\n",
    "fig = plt.figure(figsize=(15, 5))\n",
    "plt1 = fig.add_subplot(111)\n",
    "fig.suptitle('Aantal kilometer gereden met de trein', fontsize=21)\n",
    "plt1.set_xlabel('Aantal kilometer (*10 000 000)')\n",
    "plt1.set_ylabel('Jaar')\n",
    "plt1.barh(years, aantal_kms, align='center', color='#99ccff')\n",
    "#Set the x axis tick labels\n",
    "plt.yticks(years, years, fontsize=12)\n",
    "plt.show()"
   ]
  },
  {
   "cell_type": "code",
   "execution_count": 10,
   "metadata": {},
   "outputs": [
    {
     "data": {
      "text/html": [
       "\n",
       "<div style='background-color:lightgray; border:solid black; width:300px; padding:20px;'>\n",
       "Jaar: <input id='hour' type='range' min='2007' max='2018' step='1' value='2012' onchange='set_vars()'/>\n",
       "</div>\n",
       "\n",
       "<script type=\"text/Javascript\">\n",
       "    function set_vars(){\n",
       "        var var_name1 = 'inp_year';\n",
       "        var var_value1 = document.getElementById('hour').value;\n",
       "        var command1 = var_name1 + \" = '\" + var_value1 + \"'\";\n",
       "        var kernel = IPython.notebook.kernel;\n",
       "        kernel.execute(command1);\n",
       "        cell = IPython.notebook.get_cell(8);\n",
       "        cell.execute();\n",
       "        cell.focus_cell(8);\n",
       "    }\n",
       "</script>\n"
      ],
      "text/plain": [
       "<IPython.core.display.HTML object>"
      ]
     },
     "execution_count": 10,
     "metadata": {},
     "output_type": "execute_result"
    }
   ],
   "source": [
    "from IPython.display import HTML\n",
    "\n",
    "form = \"\"\"\n",
    "<div style='background-color:lightgray; border:solid black; width:300px; padding:20px;'>\n",
    "Jaar: <input id='hour' type='range' min='2007' max='2018' step='1' value='2012' onchange='set_vars()'/>\n",
    "</div>\n",
    "\"\"\"\n",
    "javascript = \"\"\"\n",
    "<script type=\"text/Javascript\">\n",
    "    function set_vars(){\n",
    "        var var_name1 = 'inp_year';\n",
    "        var var_value1 = document.getElementById('hour').value;\n",
    "        var command1 = var_name1 + \" = '\" + var_value1 + \"'\";\n",
    "        var kernel = IPython.notebook.kernel;\n",
    "        kernel.execute(command1);\n",
    "        cell = IPython.notebook.get_cell(8);\n",
    "        cell.execute();\n",
    "        cell.focus_cell(8);\n",
    "    }\n",
    "</script>\n",
    "\"\"\"\n",
    "\n",
    "HTML(form + javascript)"
   ]
  },
  {
   "cell_type": "code",
   "execution_count": 11,
   "metadata": {},
   "outputs": [
    {
     "data": {
      "image/png": "[encoded data removed]",
      "text/plain": [
       "<Figure size 504x504 with 1 Axes>"
      ]
     },
     "metadata": {
      "needs_background": "light"
     },
     "output_type": "display_data"
    }
   ],
   "source": [
    "#grafiek van de evolutie per maand\n",
    "%matplotlib inline\n",
    "import matplotlib.pyplot as plt\n",
    "\n",
    "QUARTERS = ['Q1', 'Q2', 'Q3', 'Q4']\n",
    "items = []\n",
    "for i in evolution_data.value:\n",
    "    items.append([evolution_data.value[i][1], evolution_data.value[i][3]])\n",
    "\n",
    "def get_totals(year):\n",
    "    total = 0\n",
    "    for line in items:\n",
    "        if line[0] == year:\n",
    "            var = line[1]\n",
    "            total += float(var)\n",
    "    return total/10000\n",
    "\n",
    "x_axis = [i+1 for i in range(0,4)]\n",
    "y_axis = []\n",
    "\n",
    "for i in range(0,4):\n",
    "    y_axis.append(get_totals(inp_year+ \" - \" + QUARTERS[i]))\n",
    "  \n",
    "    \n",
    "fig1 = plt.figure(figsize=(7, 7))\n",
    "fig1.suptitle('Evolutie per kwartaal in (' + inp_year + ')', fontsize=14)\n",
    "ax = fig1.add_subplot(111)\n",
    "ax.set_xlabel('Kwartaal')\n",
    "ax.set_ylabel('Evolutie (*10000)')\n",
    "\n",
    "#Set the x axis tick labels\n",
    "plt.xticks(x_axis, QUARTERS ,fontsize = 12)\n",
    "plt.plot(x_axis, y_axis)\n",
    "plt.show()\n"
   ]
  },
  {
   "cell_type": "code",
   "execution_count": 12,
   "metadata": {},
   "outputs": [
    {
     "data": {
      "image/png": "[encoded data removed]",
      "text/plain": [
       "<Figure size 504x504 with 2 Axes>"
      ]
     },
     "metadata": {},
     "output_type": "display_data"
    }
   ],
   "source": [
    "#per jaar dan een grafiekje met de twee datasets maken waar de twee satasets inzitte\n",
    "vertraging = []\n",
    "evolution = []\n",
    "items = []\n",
    "for i in evolution_data.value:\n",
    "    items.append([evolution_data.value[i][0], evolution_data.value[i][3]])\n",
    "\n",
    "def get_totals(year):\n",
    "    total = 0\n",
    "    for line in items:\n",
    "        if int(line[0]) == year:\n",
    "            var = line[1]\n",
    "            total += float(var)\n",
    "    return round(total, 2)/10000\n",
    "\n",
    "for i in range (1, 4):\n",
    "    evolution.append(get_totals(2015 + i))\n",
    "    year = 2015 + i\n",
    "    som = 0\n",
    "    for i in range(1,13):\n",
    "        var = str(year) + '-' + str(i).zfill(2)\n",
    "        som = som + (float(train_data.value[var][1].replace(',','.')))\n",
    "    vertraging.append(som/60)   \n",
    "\n",
    "x_axis = [1, 2, 3]\n",
    "\n",
    "fig1 = plt.figure(figsize=(7, 7))\n",
    "fig1.suptitle('Evolutie per jaar', fontsize=14)\n",
    "ax = fig1.add_subplot(111)\n",
    "ax.set_xlabel('Jaren')\n",
    "ax.bar(x_axis, evolution, align='center', color='salmon')\n",
    "\n",
    "#Set the x axis tick labels\n",
    "plt.xticks(x_axis, YEARS)\n",
    "ax.set_ylabel(\"Aantal km *10 000\", color=\"salmon\")\n",
    "ax.tick_params(axis='y', labelcolor=\"salmon\") \n",
    "\n",
    "ax2 = ax.twinx()\n",
    "ax2.set_ylabel(\"Vertraging in uren\", color=\"red\")\n",
    "ax2.tick_params(axis='y', labelcolor=\"red\")\n",
    "ax2.plot(x_axis, vertraging, color=\"red\")\n",
    "\n",
    "plt.show()"
   ]
  },
  {
   "cell_type": "code",
   "execution_count": 3,
   "metadata": {},
   "outputs": [],
   "source": [
    "import pygame\n",
    "from pygame.locals import *\n",
    "\n",
    "pygame.init()\n",
    "pygame.display.set_caption('End credits')\n",
    "screen = pygame.display.set_mode((800, 600))\n",
    "screen_r = screen.get_rect()\n",
    "font = pygame.font.SysFont(\"comic sans\", 40)\n",
    "clock = pygame.time.Clock()\n",
    "\n",
    "def main():\n",
    "\n",
    "    credit_list = [\"CREDITS\",\" \",\"Karen Veraa\",\"Ruben Mampaey\",\"Christoper Jacobs\", \"Tibo Depovere\", \"\",\"Support\", \"Philippe Possemiers\", \"\",\"Catering\", \"Frituur Kevertje\"]\n",
    "\n",
    "    texts = []\n",
    "    # we render the text once, since it's easier to work with surfaces\n",
    "    # also, font rendering is a performance killer\n",
    "    for i, line in enumerate(credit_list):\n",
    "        s = font.render(line, 1, (10, 10, 10))\n",
    "        # we also create a Rect for each Surface. \n",
    "        # whenever you use rects with surfaces, it may be a good idea to use sprites instead\n",
    "        # we give each rect the correct starting position \n",
    "        r = s.get_rect(centerx=screen_r.centerx, y=screen_r.bottom + i * 45)\n",
    "        texts.append((r, s))    \n",
    "    while True:\n",
    "        for e in pygame.event.get():\n",
    "            if e.type == QUIT or e.type == KEYDOWN and e.key == pygame.K_ESCAPE:\n",
    "                return\n",
    "\n",
    "        screen.fill((194, 176, 120))\n",
    "        \n",
    "        for r, s in texts:\n",
    "            # now we just move each rect by one pixel each frame\n",
    "            r.move_ip(0, -1)\n",
    "            # and drawing is as simple as this\n",
    "            screen.blit(s, r)\n",
    "\n",
    "        # if all rects have left the screen, we exit\n",
    "        if not screen_r.collidelistall([r for (r, _) in texts]):\n",
    "            return\n",
    "\n",
    "        # only call this once so the screen does not flicker\n",
    "        pygame.display.flip()\n",
    "\n",
    "        # cap framerate at 60 FPS\n",
    "        clock.tick(60)\n",
    "\n",
    "if __name__ == '__main__': \n",
    "    main()"
   ]
  },
  {
   "cell_type": "code",
   "execution_count": null,
   "metadata": {},
   "outputs": [],
   "source": []
  }
 ],
 "metadata": {
  "kernelspec": {
   "display_name": "Python 3",
   "language": "python",
   "name": "python3"
  },
  "language_info": {
   "codemirror_mode": {
    "name": "ipython",
    "version": 3
   },
   "file_extension": ".py",
   "mimetype": "text/x-python",
   "name": "python",
   "nbconvert_exporter": "python",
   "pygments_lexer": "ipython3",
   "version": "3.7.4"
  }
 },
 "nbformat": 4,
 "nbformat_minor": 2
}
